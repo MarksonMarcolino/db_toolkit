{
 "cells": [
  {
   "cell_type": "code",
   "execution_count": null,
   "metadata": {},
   "outputs": [],
   "source": [
    "query_attendance = \"\"\"\n",
    "SELECT \n",
    "    a.student_id,\n",
    "    a.year_month,\n",
    "    a.hours_offered,\n",
    "    a.hours_attended\n",
    "FROM schema.attendance_table a\n",
    "LEFT JOIN schema.enrollment_table e ON a.student_id = e.student_id\n",
    "LEFT JOIN schema.institution_table i ON i.institution_id = e.institution_id\n",
    "LEFT JOIN schema.state_table s ON s.state_id = i.state_id\n",
    "WHERE a.{attribute_0} = %s AND s.{attribute_1} = %s\n",
    "\"\"\""
   ]
  },
  {
   "cell_type": "code",
   "execution_count": null,
   "metadata": {},
   "outputs": [],
   "source": [
    "from db_toolkit.ssh import create_ssh_tunnel\n",
    "from db_toolkit.utils import load_env, get_env_variable\n",
    "\n",
    "load_env()\n",
    "\n",
    "tunnel = create_ssh_tunnel(\n",
    "    ssh_host=get_env_variable(\"SSH_HOST\"),\n",
    "    ssh_port=22,\n",
    "    ssh_username=get_env_variable(\"SSH_USER\"),\n",
    "    ssh_private_key=get_env_variable(\"SSH_PRIVATE_KEY\"),\n",
    "    remote_bind_address=(get_env_variable(\"DB_HOST\"), int(get_env_variable(\"DB_PORT\")))\n",
    ")"
   ]
  },
  {
   "cell_type": "code",
   "execution_count": null,
   "metadata": {},
   "outputs": [],
   "source": [
    "from db_toolkit.threaded_queries import run_parallel_queries\n",
    "from db_toolkit.utils import get_env_variable\n",
    "\n",
    "df = run_parallel_queries(\n",
    "    host=\"localhost\",\n",
    "    port=tunnel.local_bind_port,\n",
    "    dbname=get_env_variable(\"DB_NAME\"),\n",
    "    user=get_env_variable(\"DB_USER\"),\n",
    "    password=get_env_variable(\"DB_PASSWORD\"),\n",
    "    query_template=query_attendance,\n",
    "    target_table=('schema', 'attendance_table'),\n",
    "    distinct_sources={\n",
    "        'year_month': ('schema', 'attendance_table'),\n",
    "        'state_abbreviation': ('schema', 'state_table')\n",
    "    },\n",
    "    verbose=False,\n",
    "    debug=False,\n",
    "    max_combinations=10  # Optional for testing\n",
    ")"
   ]
  },
  {
   "cell_type": "code",
   "execution_count": null,
   "metadata": {},
   "outputs": [],
   "source": [
    "tunnel.stop()"
   ]
  }
 ],
 "metadata": {
  "kernelspec": {
   "display_name": ".venv",
   "language": "python",
   "name": "python3"
  },
  "language_info": {
   "codemirror_mode": {
    "name": "ipython",
    "version": 3
   },
   "file_extension": ".py",
   "mimetype": "text/x-python",
   "name": "python",
   "nbconvert_exporter": "python",
   "pygments_lexer": "ipython3",
   "version": "3.13.2"
  }
 },
 "nbformat": 4,
 "nbformat_minor": 2
}
